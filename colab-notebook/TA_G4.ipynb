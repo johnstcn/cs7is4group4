{
 "nbformat": 4,
 "nbformat_minor": 0,
 "metadata": {
  "colab": {
   "name": "TA_G4.ipynb",
   "provenance": [],
   "collapsed_sections": []
  },
  "kernelspec": {
   "name": "python3",
   "display_name": "Python 3"
  },
  "pycharm": {
   "stem_cell": {
    "cell_type": "raw",
    "source": [
     "g#%% md\n",
     "\n",
     "**Mount Google Drive**\n"
    ],
    "metadata": {
     "collapsed": false
    }
   }
  }
 },
 "cells": [
  {
   "cell_type": "code",
   "execution_count": null,
   "outputs": [],
   "source": [
    "from google.colab import drive\n",
    "drive.mount('/content/drive')"
   ],
   "metadata": {
    "collapsed": false,
    "pycharm": {
     "name": "#%%\n"
    }
   }
  },
  {
   "cell_type": "markdown",
   "source": [
    "**Install Dependencies**"
   ],
   "metadata": {
    "collapsed": false
   }
  },
  {
   "cell_type": "code",
   "execution_count": null,
   "outputs": [],
   "source": [
    "!pip install emoji\n",
    "from textblob import TextBlob\n",
    "import pandas as pd\n",
    "import numpy as np\n",
    "import re\n",
    "import emoji\n",
    "from wordcloud import WordCloud\n",
    "from functools import reduce\n",
    "import matplotlib.pyplot as plt"
   ],
   "metadata": {
    "collapsed": false,
    "pycharm": {
     "name": "#%%\n"
    }
   }
  },
  {
   "cell_type": "markdown",
   "source": [
    "**Function definitions**"
   ],
   "metadata": {
    "collapsed": false
   }
  },
  {
   "cell_type": "code",
   "execution_count": null,
   "outputs": [],
   "source": [
    "def load_dict_contractions():\n",
    "    \n",
    "    return {\n",
    "        \"ain't\":\"is not\",\n",
    "        \"amn't\":\"am not\",\n",
    "        \"aren't\":\"are not\",\n",
    "        \"can't\":\"cannot\",\n",
    "        \"'cause\":\"because\",\n",
    "        \"couldn't\":\"could not\",\n",
    "        \"couldn't've\":\"could not have\",\n",
    "        \"could've\":\"could have\",\n",
    "        \"daren't\":\"dare not\",\n",
    "        \"daresn't\":\"dare not\",\n",
    "        \"dasn't\":\"dare not\",\n",
    "        \"didn't\":\"did not\",\n",
    "        \"doesn't\":\"does not\",\n",
    "        \"don't\":\"do not\",\n",
    "        \"e'er\":\"ever\",\n",
    "        \"em\":\"them\",\n",
    "        \"everyone's\":\"everyone is\",\n",
    "        \"finna\":\"fixing to\",\n",
    "        \"gimme\":\"give me\",\n",
    "        \"gonna\":\"going to\",\n",
    "        \"gon't\":\"go not\",\n",
    "        \"gotta\":\"got to\",\n",
    "        \"hadn't\":\"had not\",\n",
    "        \"hasn't\":\"has not\",\n",
    "        \"haven't\":\"have not\",\n",
    "        \"he'd\":\"he would\",\n",
    "        \"he'll\":\"he will\",\n",
    "        \"he's\":\"he is\",\n",
    "        \"he've\":\"he have\",\n",
    "        \"how'd\":\"how would\",\n",
    "        \"how'll\":\"how will\",\n",
    "        \"how're\":\"how are\",\n",
    "        \"how's\":\"how is\",\n",
    "        \"I'd\":\"I would\",\n",
    "        \"I'll\":\"I will\",\n",
    "        \"I'm\":\"I am\",\n",
    "        \"I'm'a\":\"I am about to\",\n",
    "        \"I'm'o\":\"I am going to\",\n",
    "        \"isn't\":\"is not\",\n",
    "        \"it'd\":\"it would\",\n",
    "        \"it'll\":\"it will\",\n",
    "        \"it's\":\"it is\",\n",
    "        \"I've\":\"I have\",\n",
    "        \"kinda\":\"kind of\",\n",
    "        \"let's\":\"let us\",\n",
    "        \"mayn't\":\"may not\",\n",
    "        \"may've\":\"may have\",\n",
    "        \"mightn't\":\"might not\",\n",
    "        \"might've\":\"might have\",\n",
    "        \"mustn't\":\"must not\",\n",
    "        \"mustn't've\":\"must not have\",\n",
    "        \"must've\":\"must have\",\n",
    "        \"needn't\":\"need not\",\n",
    "        \"ne'er\":\"never\",\n",
    "        \"o'\":\"of\",\n",
    "        \"o'er\":\"over\",\n",
    "        \"ol'\":\"old\",\n",
    "        \"oughtn't\":\"ought not\",\n",
    "        \"shalln't\":\"shall not\",\n",
    "        \"shan't\":\"shall not\",\n",
    "        \"she'd\":\"she would\",\n",
    "        \"she'll\":\"she will\",\n",
    "        \"she's\":\"she is\",\n",
    "        \"shouldn't\":\"should not\",\n",
    "        \"shouldn't've\":\"should not have\",\n",
    "        \"should've\":\"should have\",\n",
    "        \"somebody's\":\"somebody is\",\n",
    "        \"someone's\":\"someone is\",\n",
    "        \"something's\":\"something is\",\n",
    "        \"that'd\":\"that would\",\n",
    "        \"that'll\":\"that will\",\n",
    "        \"that're\":\"that are\",\n",
    "        \"that's\":\"that is\",\n",
    "        \"there'd\":\"there would\",\n",
    "        \"there'll\":\"there will\",\n",
    "        \"there're\":\"there are\",\n",
    "        \"there's\":\"there is\",\n",
    "        \"these're\":\"these are\",\n",
    "        \"they'd\":\"they would\",\n",
    "        \"they'll\":\"they will\",\n",
    "        \"they're\":\"they are\",\n",
    "        \"they've\":\"they have\",\n",
    "        \"this's\":\"this is\",\n",
    "        \"those're\":\"those are\",\n",
    "        \"'tis\":\"it is\",\n",
    "        \"'twas\":\"it was\",\n",
    "        \"wanna\":\"want to\",\n",
    "        \"wasn't\":\"was not\",\n",
    "        \"we'd\":\"we would\",\n",
    "        \"we'd've\":\"we would have\",\n",
    "        \"we'll\":\"we will\",\n",
    "        \"we're\":\"we are\",\n",
    "        \"weren't\":\"were not\",\n",
    "        \"we've\":\"we have\",\n",
    "        \"what'd\":\"what did\",\n",
    "        \"what'll\":\"what will\",\n",
    "        \"what're\":\"what are\",\n",
    "        \"what's\":\"what is\",\n",
    "        \"what've\":\"what have\",\n",
    "        \"when's\":\"when is\",\n",
    "        \"where'd\":\"where did\",\n",
    "        \"where're\":\"where are\",\n",
    "        \"where's\":\"where is\",\n",
    "        \"where've\":\"where have\",\n",
    "        \"which's\":\"which is\",\n",
    "        \"who'd\":\"who would\",\n",
    "        \"who'd've\":\"who would have\",\n",
    "        \"who'll\":\"who will\",\n",
    "        \"who're\":\"who are\",\n",
    "        \"who's\":\"who is\",\n",
    "        \"who've\":\"who have\",\n",
    "        \"why'd\":\"why did\",\n",
    "        \"why're\":\"why are\",\n",
    "        \"why's\":\"why is\",\n",
    "        \"won't\":\"will not\",\n",
    "        \"wouldn't\":\"would not\",\n",
    "        \"would've\":\"would have\",\n",
    "        \"y'all\":\"you all\",\n",
    "        \"you'd\":\"you would\",\n",
    "        \"you'll\":\"you will\",\n",
    "        \"you're\":\"you are\",\n",
    "        \"you've\":\"you have\",\n",
    "        \"Whatcha\":\"What are you\",\n",
    "        \"luv\":\"love\",\n",
    "        \"sux\":\"sucks\"\n",
    "        }\n",
    "\n",
    "# emoticons\n",
    "def load_dict_smileys():\n",
    "    \n",
    "    return {\n",
    "        \":-)\":\"happy smiley\",\n",
    "        \":-]\":\"happy smiley\",\n",
    "        \":-3\":\"happy smiley\",\n",
    "        \":->\":\"happy smiley\",\n",
    "        \"8-)\":\"happy smiley\",\n",
    "        \":-}\":\"happy smiley\",\n",
    "        \":)\":\"happy smiley\",\n",
    "        \":]\":\"happy smiley\",\n",
    "        \":3\":\"happy smiley\",\n",
    "        \":>\":\"happy smiley\",\n",
    "        \"8)\":\"happy smiley\",\n",
    "        \":}\":\"happy smiley\",\n",
    "        \":o)\":\"happy smiley\",\n",
    "        \":c)\":\"happy smiley\",\n",
    "        \":^)\":\"happy smiley\",\n",
    "        \"=]\":\"happy smiley\",\n",
    "        \"=)\":\"happy smiley\",\n",
    "        \":-))\":\"happy smiley\",\n",
    "        \":-D\":\"happy smiley\",\n",
    "        \"8-D\":\"happy smiley\",\n",
    "        \"x-D\":\"happy smiley\",\n",
    "        \"X-D\":\"happy smiley\",\n",
    "        \":D\":\"happy smiley\",\n",
    "        \"8D\":\"happy smiley\",\n",
    "        \"xD\":\"happy smiley\",\n",
    "        \"XD\":\"happy smiley\",\n",
    "        \":-(\":\"sad smiley\",\n",
    "        \":-c\":\"sad smiley\",\n",
    "        \":-<\":\"sad smiley\",\n",
    "        \":-[\":\"sad smiley\",\n",
    "        \":(\":\"sad smiley\",\n",
    "        \":c\":\"sad smiley\",\n",
    "        \":<\":\"sad smiley\",\n",
    "        \":[\":\"sad smiley\",\n",
    "        \":-||\":\"sad smiley\",\n",
    "        \">:[\":\"sad smiley\",\n",
    "        \":{\":\"sad smiley\",\n",
    "        \":@\":\"sad smiley\",\n",
    "        \">:(\":\"sad smiley\",\n",
    "        \":'-(\":\"sad smiley\",\n",
    "        \":'(\":\"sad smiley\",\n",
    "        \":-P\":\"playful smiley\",\n",
    "        \"X-P\":\"playful smiley\",\n",
    "        \"x-p\":\"playful smiley\",\n",
    "        \":-p\":\"playful smiley\",\n",
    "        \":-Þ\":\"playful smiley\",\n",
    "        \":-þ\":\"playful smiley\",\n",
    "        \":-b\":\"playful smiley\",\n",
    "        \":P\":\"playful smiley\",\n",
    "        \"XP\":\"playful smiley\",\n",
    "        \"xp\":\"playful smiley\",\n",
    "        \":p\":\"playful smiley\",\n",
    "        \":Þ\":\"playful smiley\",\n",
    "        \":þ\":\"playful smiley\",\n",
    "        \":b\":\"playful smiley\",\n",
    "        \"<3\":\"love\"\n",
    "        }\n",
    "\n",
    "def generate_sentiment_polarity(text):\n",
    "  blob = TextBlob(text)\n",
    "  return blob.sentiment.polarity\n",
    "\n",
    "def generate_sentiment_subjectivity(text):\n",
    "  blob = TextBlob(text)\n",
    "  return blob.sentiment.subjectivity  \n",
    "\n",
    "def clean(x):\n",
    " x = re.sub(r'^RT[\\s]+','',x)\n",
    " x = re.sub(r'https?:\\/\\/.*[\\r\\n]*', '', x)\n",
    " x = re.sub(r'#', '', x)\n",
    " x = re.sub(r'@[A-Za-z0–9]+', '', x) \n",
    " return x\n",
    "\n",
    "def replace_contractions(tweet):\n",
    "  CONTRACTIONS = load_dict_contractions()\n",
    "  tweet = tweet.replace(\"’\",\"'\")\n",
    "  words = tweet.split()\n",
    "  reformed = [CONTRACTIONS[word] if word in CONTRACTIONS else word for word in words]\n",
    "  tweet = \" \".join(reformed) \n",
    "  return tweet\n",
    "\n",
    "def replace_smileys(tweet):\n",
    "  SMILEY = load_dict_smileys()  \n",
    "  words = tweet.split()\n",
    "  reformed = [SMILEY[word] if word in SMILEY else word for word in words]\n",
    "  tweet = \" \".join(reformed)\n",
    "  return tweet\n",
    "\n",
    "def translate_emojis(text_with_emoji):\n",
    "  return emoji.demojize(text_with_emoji).replace(\":\",\"\").replace(\"_face\",\"\")\n",
    "\n",
    "def convert_timestamp(x):\n",
    "  return pd.to_datetime(x,unit='s')\n",
    "\n",
    "def convert_timestamp_to_data(x):\n",
    "  return pd.to_date(x,unit='s')\n",
    "\n",
    "\n",
    "def convert_timestamp_to_date(x):\n",
    "  return pd.to_datetime(x, unit='s', errors='ignore').date().strftime('%Y-%m-%d')\n",
    "\n",
    "def clean_and_analyze_tweets(path):\n",
    "  tweet_csv = pd.read_csv(path);\n",
    "  tweet_csv.tweet_text\n",
    "  df = pd.DataFrame(tweet_csv)\n",
    "  df['tweet_text'] = df['tweet_text'].apply(clean)\n",
    "  df['tweet_text'] = df['tweet_text'].apply(replace_contractions)\n",
    "  df['tweet_text'] = df['tweet_text'].apply(replace_smileys)\n",
    "  df['tweet_text'] = df['tweet_text'].apply(translate_emojis)\n",
    "  df['polarity'] = df['tweet_text'].apply(generate_sentiment_polarity)\n",
    "  df['subjectivity'] = df['tweet_text'].apply(generate_sentiment_subjectivity)\n",
    "  df['tweet_created_at_ts'] = df['tweet_created_at_ts'].apply(convert_timestamp)\n",
    "  df['tweet_created_at_date'] = df['tweet_created_at_ts'].apply(convert_timestamp_to_date)\n",
    "  return df\n",
    "\n",
    "def append_max_weather_category(weather_data):\n",
    "  wd = weather_data[weather_data.columns[3:7]]\n",
    "  max_weather = pd.DataFrame(wd).idxmax(axis=1)\n",
    "  max_weather = pd.DataFrame(max_weather, columns=['weather'])\n",
    "  max_weather['date'] = weather_data['date']\n",
    "  return max_weather\n",
    "\n",
    "def apply_sentiment_category(row):\n",
    "  if row['polarity'] < 0:\n",
    "    return 'negative'\n",
    "  elif row['polarity'] > 0:\n",
    "    return 'positive'\n",
    "  else:\n",
    "    return 'neutral'\n",
    "\n",
    "def append(x1, x2): \n",
    "    return x1 +' ' + x2\n"
   ],
   "metadata": {
    "collapsed": false,
    "pycharm": {
     "name": "#%%\n"
    }
   }
  },
  {
   "cell_type": "markdown",
   "source": [
    "**Something is wrong with weekly plot**"
   ],
   "metadata": {
    "collapsed": false
   }
  },
  {
   "cell_type": "code",
   "execution_count": null,
   "outputs": [],
   "source": [
    "df = clean_and_analyze_tweets('/content/drive/My Drive/Text-Analytics-Data/twitter_201805_country_ie_userlocation_ireland.csv')\n",
    "df['week'] = pd.to_datetime(df['tweet_created_at_ts']).dt.dayofweek\n",
    "df['week'].unique()\n",
    "import plotly.express as px\n",
    "\n",
    "fig = px.scatter(combined_data, x=\"week\", y=\"polarity\")\n",
    "\n",
    "\n",
    "fig.update_layout(\n",
    "    title = 'Scatter plot for polarity of tweets in the month of Jan',\n",
    "    \n",
    ")\n",
    "\n",
    "fig.show()"
   ],
   "metadata": {
    "collapsed": false,
    "pycharm": {
     "name": "#%%\n"
    }
   }
  },
  {
   "cell_type": "markdown",
   "source": [
    "**Combining data for all the months**"
   ],
   "metadata": {
    "collapsed": false
   }
  },
  {
   "cell_type": "code",
   "execution_count": null,
   "outputs": [],
   "source": [
    "df_jan = clean_and_analyze_tweets('/content/drive/My Drive/Text-Analytics-Data/twitter_201801_country_ie_userlocation_ireland.csv')\n",
    "df_feb = clean_and_analyze_tweets('/content/drive/My Drive/Text-Analytics-Data/twitter_201802_country_ie_userlocation_ireland.csv')\n",
    "df_mar = clean_and_analyze_tweets('/content/drive/My Drive/Text-Analytics-Data/twitter_201803_country_ie_userlocation_ireland.csv')\n",
    "df_apr = clean_and_analyze_tweets('/content/drive/My Drive/Text-Analytics-Data/twitter_201804_country_ie_userlocation_ireland.csv')\n",
    "df_may = clean_and_analyze_tweets('/content/drive/My Drive/Text-Analytics-Data/twitter_201805_country_ie_userlocation_ireland.csv')\n",
    "df_jun = clean_and_analyze_tweets('/content/drive/My Drive/Text-Analytics-Data/twitter_201806_country_ie_userlocation_ireland.csv')\n",
    "df_jul = clean_and_analyze_tweets('/content/drive/My Drive/Text-Analytics-Data/twitter_201807_country_ie_userlocation_ireland.csv')\n",
    "df_aug = clean_and_analyze_tweets('/content/drive/My Drive/Text-Analytics-Data/twitter_201808_country_ie_userlocation_ireland.csv')\n",
    "df_sept = clean_and_analyze_tweets('/content/drive/My Drive/Text-Analytics-Data/twitter_201809_country_ie_userlocation_ireland.csv')\n",
    "df_oct = clean_and_analyze_tweets('/content/drive/My Drive/Text-Analytics-Data/twitter_201810_country_ie_userlocation_ireland.csv')\n",
    "df_nov = clean_and_analyze_tweets('/content/drive/My Drive/Text-Analytics-Data/twitter_201811_country_ie_userlocation_ireland.csv')\n",
    "df_dec = clean_and_analyze_tweets('/content/drive/My Drive/Text-Analytics-Data/twitter_201812_country_ie_userlocation_ireland.csv')\n",
    "\n",
    "combined_data = df_jan.append(df_feb).append(df_mar).append(df_apr).append(df_may).append(df_jun).append(df_jul).append(df_aug).append(df_sept).append(df_oct).append(df_nov).append(df_dec)\n"
   ],
   "metadata": {
    "collapsed": false,
    "pycharm": {
     "name": "#%%\n"
    }
   }
  },
  {
   "cell_type": "code",
   "execution_count": null,
   "outputs": [],
   "source": [
    "combined_data['week'] = pd.to_datetime(combined_data['tweet_created_at_ts']).dt.dayofweek\n",
    "combined_data['week'].unique()\n",
    "\n",
    "import plotly.express as px\n",
    "\n",
    "fig = px.box(combined_data, x='week', y='polarity', points=\"all\")\n",
    "\n",
    "\n",
    "fig.update_layout(\n",
    "    title=\"Sentiment Analysis of the tweets on weekdays and weekends\",\n",
    "    xaxis_title=\"Weekday (Monday=0, Sunday=6)\",\n",
    "    yaxis_title=\"Sentiment\")\n",
    "\n",
    "fig.show()"
   ],
   "metadata": {
    "collapsed": false,
    "pycharm": {
     "name": "#%%\n"
    }
   }
  },
  {
   "cell_type": "markdown",
   "source": [
    "**Overall Positive and Negative Sentiments**"
   ],
   "metadata": {
    "collapsed": false
   }
  },
  {
   "cell_type": "code",
   "execution_count": null,
   "outputs": [],
   "source": [
    "import plotly.graph_objects as go\n",
    "x = combined_data['week']\n",
    "\n",
    "fig = go.Figure()\n",
    "fig.add_trace(go.Bar(x=x, \n",
    "                     y=combined_data[combined_data['polarity'] > 0].count(),\n",
    "                     name=\"Positive sentiment\" ))\n",
    "fig.add_trace(go.Bar(x=x, \n",
    "                     y=combined_data[combined_data['polarity'] < 0].count(),\n",
    "                     name=\"Negative senitiment\"))\n",
    "\n",
    "fig.update_layout(title_text='Number of positive and negative tweets grouped by seasons')\n",
    "fig.show()"
   ],
   "metadata": {
    "collapsed": false,
    "pycharm": {
     "name": "#%%\n"
    }
   }
  },
  {
   "cell_type": "code",
   "execution_count": null,
   "outputs": [],
   "source": [
    "import plotly.express as px\n",
    "\n",
    "fig = px.box(df, x='tweet_place_country_code', y='polarity', points=\"all\")\n",
    "\n",
    "\n",
    "fig.update_layout(\n",
    "    title=\"Sentiment Analysis of the tweets for the month of Jul 2018\",\n",
    "    xaxis_title=\"\",\n",
    "    yaxis_title=\"Sentiment\")\n",
    "\n",
    "fig.show()"
   ],
   "metadata": {
    "collapsed": false,
    "pycharm": {
     "name": "#%%\n"
    }
   }
  },
  {
   "cell_type": "markdown",
   "source": [
    "**WordCloud**"
   ],
   "metadata": {
    "collapsed": false
   }
  },
  {
   "cell_type": "code",
   "execution_count": null,
   "outputs": [],
   "source": [
    "from wordcloud import WordCloud\n",
    "from functools import reduce\n",
    " \n",
    "def append(x1, x2): \n",
    "    return x1 +' ' + x2\n",
    "\n",
    "combined_text = reduce(append, df.tweet_text)\n",
    "\n",
    "wordcloud = WordCloud().generate(combined_text)\n",
    "\n",
    "\n",
    "\n",
    "import matplotlib.pyplot as plt\n",
    "\n",
    "# lower max_font_size\n",
    "wordcloud = WordCloud(max_font_size=40).generate(combined_text)\n",
    "plt.figure()\n",
    "plt.imshow(wordcloud, interpolation=\"bilinear\")\n",
    "plt.axis(\"off\")\n",
    "plt.show()\n"
   ],
   "metadata": {
    "collapsed": false,
    "pycharm": {
     "name": "#%%\n"
    }
   }
  },
  {
   "cell_type": "markdown",
   "source": [],
   "metadata": {
    "collapsed": false
   }
  },
  {
   "cell_type": "markdown",
   "source": [
    "**Scatter Plot For Specific Days**"
   ],
   "metadata": {
    "collapsed": false
   }
  },
  {
   "cell_type": "code",
   "execution_count": null,
   "outputs": [],
   "source": [
    "fig = px.scatter(df, x=\"tweet_created_at_ts\", y=\"polarity\")\n",
    "\n",
    "\n",
    "fig.update_layout(\n",
    "    title = 'Scatter plot for polarity of tweets in the month of Jan',\n",
    "    xaxis_tickformat = '%d %B <br>%Y'\n",
    ")\n",
    "\n",
    "fig.show()"
   ],
   "metadata": {
    "collapsed": false,
    "pycharm": {
     "name": "#%%\n"
    }
   }
  },
  {
   "cell_type": "markdown",
   "source": [
    "**All Seasons Combined**"
   ],
   "metadata": {
    "collapsed": false
   }
  },
  {
   "cell_type": "code",
   "execution_count": null,
   "outputs": [],
   "source": [
    "\n",
    "combined_winter = df_dec.append(df_jan).append(df_feb)\n",
    "combined_winter = combined_winter.assign(season='winter')\n",
    "combined_winter\n",
    "combined_spring = df_mar.append(df_apr).append(df_may)\n",
    "combined_spring = combined_spring.assign(season='spring')\n",
    "combined_spring\n",
    "\n",
    "combined_summer = df_jun.append(df_jul).append(df_aug)\n",
    "combined_summer = combined_summer.assign(season='summer')\n",
    "combined_summer\n",
    "\n",
    "combined_fall = df_sept.append(df_oct).append(df_nov)\n",
    "combined_fall = combined_fall.assign(season='fall')\n",
    "combined_fall\n",
    "\n",
    "all_season = combined_winter.append(combined_spring, sort=False).append(combined_summer, sort=False).append(combined_fall, sort=False)\n"
   ],
   "metadata": {
    "collapsed": false,
    "pycharm": {
     "name": "#%%\n"
    }
   }
  },
  {
   "cell_type": "markdown",
   "source": [
    "**All Seasons box plot**"
   ],
   "metadata": {
    "collapsed": false
   }
  },
  {
   "cell_type": "code",
   "execution_count": null,
   "outputs": [],
   "source": [
    "import plotly.express as px \n",
    "\n",
    "fig = px.box(all_season, x='season', y='polarity', points=\"all\")\n",
    "\n",
    "\n",
    "fig.update_layout(\n",
    "    title=\"Sentiment Analysis of the tweets for all seasons in 2018\",\n",
    "    xaxis_title=\"Seasons\",\n",
    "    yaxis_title=\"Sentiment\")\n",
    "\n",
    "fig.show()"
   ],
   "metadata": {
    "collapsed": false,
    "pycharm": {
     "name": "#%%\n"
    }
   }
  },
  {
   "cell_type": "markdown",
   "source": [
    "**Positive Negative Sentiments Grouped by Seasons**"
   ],
   "metadata": {
    "collapsed": false
   }
  },
  {
   "cell_type": "code",
   "execution_count": null,
   "outputs": [],
   "source": [
    "import plotly.graph_objects as go\n",
    "x = [\"spring\", \"summer\", \"winter\",\"fall\"]\n",
    "\n",
    "fig = go.Figure()\n",
    "fig.add_trace(go.Bar(x=x, \n",
    "                     y=[combined_spring[combined_spring['polarity'] > 0].count().tweet_id, \n",
    "                        combined_summer[combined_summer['polarity'] > 0].count().tweet_id, \n",
    "                        combined_winter[combined_winter['polarity'] > 0].count().tweet_id,\n",
    "                        combined_fall[combined_fall['polarity'] > 0].count().tweet_id],\n",
    "                     name=\"Positive sentiment\" ))\n",
    "fig.add_trace(go.Bar(x=x, \n",
    "                     y=[combined_spring[combined_spring['polarity'] < 0].count().tweet_id,\n",
    "                        combined_summer[combined_summer['polarity'] < 0].count().tweet_id, \n",
    "                        combined_winter[combined_winter['polarity'] < 0].count().tweet_id,\n",
    "                      combined_fall[combined_fall['polarity'] < 0].count().tweet_id],\n",
    "                     name=\"Negative senitiment\"))\n",
    "\n",
    "fig.update_layout(title_text='Number of positive and negative tweets grouped by seasons')\n",
    "fig.show()"
   ],
   "metadata": {
    "collapsed": false,
    "pycharm": {
     "name": "#%%\n"
    }
   }
  },
  {
   "cell_type": "markdown",
   "source": [
    "**Combining Weather data with Tweets**"
   ],
   "metadata": {
    "collapsed": false
   }
  },
  {
   "cell_type": "code",
   "execution_count": null,
   "outputs": [],
   "source": [
    "weather_data = pd.read_csv('/content/drive/My Drive/Text-Analytics-Data/forecasts_with_features.csv')\n",
    "\n",
    "weather_data_combined = pd.merge(combined_data, append_max_weather_category(weather_data), left_on='tweet_created_at_date', right_on='date')\n"
   ],
   "metadata": {
    "collapsed": false,
    "pycharm": {
     "name": "#%%\n"
    }
   }
  },
  {
   "cell_type": "markdown",
   "source": [],
   "metadata": {
    "collapsed": false
   }
  },
  {
   "cell_type": "code",
   "execution_count": null,
   "outputs": [],
   "source": [],
   "metadata": {
    "collapsed": false,
    "pycharm": {
     "name": "#%%\n"
    }
   }
  },
  {
   "cell_type": "markdown",
   "source": [
    "**Plot Bar graph of positive negative tweets**"
   ],
   "metadata": {
    "collapsed": false
   }
  },
  {
   "cell_type": "code",
   "execution_count": null,
   "outputs": [],
   "source": [
    "weather_data_combined['sentiment_category'] = weather_data_combined.apply(lambda row: apply_sentiment_category(row), axis=1)\n",
    "grouped_data = weather_data_combined.groupby(['sentiment_category', 'weather']).count()\n",
    "barplot_data = grouped_data['tweet_id']\n",
    "barplot_data[8:12]\n",
    "\n",
    "import plotly.graph_objects as go\n",
    "\n",
    "months = ['COLD', 'DRY', 'HOT', 'WET']\n",
    "\n",
    "fig = go.Figure()\n",
    "fig.add_trace(go.Bar(\n",
    "    x=months,\n",
    "    y=barplot_data[8:12],\n",
    "    name='Positive',\n",
    "    marker_color='mediumseagreen',\n",
    "    text=barplot_data[8:12] \n",
    "))\n",
    "fig.add_trace(go.Bar(\n",
    "    x=months,\n",
    "    y=barplot_data[0:4],\n",
    "    name='Neutral',\n",
    "    marker_color='lightsalmon',\n",
    "    text=barplot_data[0:4]\n",
    "))\n",
    "fig.add_trace(go.Bar(\n",
    "    x=months,\n",
    "    y=barplot_data[4:8],\n",
    "    name='Negative',\n",
    "    marker_color='indianred',\n",
    "    text=barplot_data[4:8]\n",
    "))\n",
    "fig.update_traces(texttemplate='%{text}', textposition='outside')\n",
    "fig.update_layout(barmode='group',\n",
    "                  xaxis_title=\"Weather Category\",\n",
    "                  yaxis_title=\"Number of tweets\")\n",
    "fig.show()"
   ],
   "metadata": {
    "collapsed": false,
    "pycharm": {
     "name": "#%%\n"
    }
   }
  },
  {
   "cell_type": "markdown",
   "source": [
    "\n",
    " **Word Cloud Analysis for positive and negative sentiments**"
   ],
   "metadata": {
    "collapsed": false
   }
  },
  {
   "cell_type": "code",
   "execution_count": null,
   "outputs": [],
   "source": [
    "positive_tweet_dataframe = combined_data[combined_data['polarity'] > 0]\n",
    "negative_tweet_dataframe = combined_data[combined_data['polarity'] < 0]\n",
    "neutral_tweet_dataframe = combined_data[combined_data['polarity'] == 0]"
   ],
   "metadata": {
    "collapsed": false,
    "pycharm": {
     "name": "#%%\n"
    }
   }
  },
  {
   "cell_type": "markdown",
   "source": [
    "**Positive Tweets WordCloud**"
   ],
   "metadata": {
    "collapsed": false
   }
  },
  {
   "cell_type": "code",
   "execution_count": null,
   "outputs": [],
   "source": [
    "\n",
    "combined_text = reduce(append, positive_tweet_dataframe.tweet_text)\n",
    "\n",
    "wordcloud = WordCloud().generate(combined_text)\n",
    "\n",
    "wordcloud = WordCloud(max_font_size=40).generate(combined_text)\n",
    "plt.figure()\n",
    "plt.imshow(wordcloud, interpolation=\"bilinear\")\n",
    "plt.axis(\"off\")\n",
    "plt.show()\n"
   ],
   "metadata": {
    "collapsed": false,
    "pycharm": {
     "name": "#%%\n"
    }
   }
  },
  {
   "cell_type": "markdown",
   "source": [
    "**Negative Tweets WordCloud**"
   ],
   "metadata": {
    "collapsed": false
   }
  },
  {
   "cell_type": "code",
   "execution_count": null,
   "outputs": [],
   "source": [
    "\n",
    "combined_text = reduce(append, negative_tweet_dataframe.tweet_text)\n",
    "\n",
    "wordcloud = WordCloud().generate(combined_text)\n",
    "\n",
    "wordcloud = WordCloud(max_font_size=40).generate(combined_text)\n",
    "plt.figure()\n",
    "plt.imshow(wordcloud, interpolation=\"bilinear\")\n",
    "plt.axis(\"off\")\n",
    "plt.show()\n"
   ],
   "metadata": {
    "collapsed": false,
    "pycharm": {
     "name": "#%%\n"
    }
   }
  },
  {
   "cell_type": "markdown",
   "source": [
    "**Neutral Tweets WordCloud**"
   ],
   "metadata": {
    "collapsed": false
   }
  },
  {
   "cell_type": "code",
   "execution_count": null,
   "outputs": [],
   "source": [
    "\n",
    "combined_text = reduce(append, neutral_tweet_dataframe.tweet_text)\n",
    "\n",
    "wordcloud = WordCloud().generate(combined_text)\n",
    "\n",
    "wordcloud = WordCloud(max_font_size=40).generate(combined_text)\n",
    "plt.figure()\n",
    "plt.imshow(wordcloud, interpolation=\"bilinear\")\n",
    "plt.axis(\"off\")\n",
    "plt.show()\n"
   ],
   "metadata": {
    "collapsed": false,
    "pycharm": {
     "name": "#%%\n"
    }
   }
  },
  {
   "cell_type": "code",
   "execution_count": null,
   "outputs": [],
   "source": [],
   "metadata": {
    "collapsed": false,
    "pycharm": {
     "name": "#%%\n"
    }
   }
  }
 ]
}